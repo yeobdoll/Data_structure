{
 "cells": [
  {
   "cell_type": "markdown",
   "id": "8b48bf3c",
   "metadata": {},
   "source": [
    "## 학과: AI소프트웨어\n",
    "## 학번: 2018315006 \n",
    "## 성명: 정성엽"
   ]
  },
  {
   "cell_type": "code",
   "execution_count": 5,
   "id": "97f9b9ff",
   "metadata": {},
   "outputs": [],
   "source": [
    "top = [ ]               \n",
    "def isEmpty():\n",
    "    return len(top) == 0\n",
    "def push(item):\n",
    "    top.append(item) # 리스트 맨뒤에 item 추가\n",
    "def pop():\n",
    "    if not isEmpty():\n",
    "        return top.pop(-1)  #리스트 맨뒤에에서 항목 꺼내고 반환\n",
    "def peek():       \n",
    "    if not isEmpty():\n",
    "        return top[-1]  #리스트 맨뒤에 항목을 반환(삭제X)\n",
    "def size(): return len(top)  \n",
    "def clear(): \n",
    "    #global top      \n",
    "    top = []    "
   ]
  },
  {
   "cell_type": "code",
   "execution_count": 6,
   "id": "87766e99",
   "metadata": {},
   "outputs": [
    {
     "name": "stdout",
     "output_type": "stream",
     "text": [
      " push 5회:  [1, 2, 3, 4, 5]\n",
      " pop() -->  5\n",
      " pop() -->  4\n",
      " pop  2회:  [1, 2, 3]\n",
      " push+2회:  [1, 2, 3, '홍길동', '이순신']\n",
      " pop() -->  이순신\n",
      " pop  1회:  [1, 2, 3, '홍길동']\n"
     ]
    }
   ],
   "source": [
    "for i in range(1,6):\n",
    "    push(i)     \n",
    "print(' push 5회: ', top)\n",
    "print(' pop() --> ', pop())\n",
    "print(' pop() --> ', pop())\n",
    "print(' pop  2회: ', top)\n",
    "push('홍길동')\n",
    "push('이순신')\n",
    "print(' push+2회: ', top)\n",
    "print(' pop() --> ', pop())\n",
    "print(' pop  1회: ', top)"
   ]
  },
  {
   "cell_type": "code",
   "execution_count": 7,
   "id": "cc9ff1f6",
   "metadata": {},
   "outputs": [],
   "source": [
    "class Stack:\n",
    "    def __init__(self):\n",
    "        self.top = [ ]               \n",
    "    def isEmpty(self):\n",
    "        return len(self.top) == 0\n",
    "    def push(self,item):\n",
    "        self.top.append(item) # 리스트 맨뒤에 item 추가\n",
    "    def pop(self):\n",
    "        if not self.isEmpty():\n",
    "            return self.top.pop(-1)  #리스트 맨뒤에에서 항목 꺼내고 반환\n",
    "    def peek(self):       \n",
    "        if not self.isEmpty():\n",
    "            return self.top[-1]  #리스트 맨뒤에 항목을 반환(삭제X)\n",
    "    def size(self): return len(self.top)  \n",
    "    def clear(self): \n",
    "        #global top    #전역변수 선언이 필요없음  \n",
    "        self.top = []    "
   ]
  },
  {
   "cell_type": "code",
   "execution_count": 8,
   "id": "6066d595",
   "metadata": {},
   "outputs": [
    {
     "name": "stdout",
     "output_type": "stream",
     "text": [
      " 스택 even push 5회:  <__main__.Stack object at 0x000001F62EE1B1C0>\n",
      " 스택 odd  push 5회:  <__main__.Stack object at 0x000001F62EE1B250>\n",
      " 스택 even     peek:  8\n",
      " 스택 odd      peek:  9\n",
      " 스택 even  pop 2회:  <__main__.Stack object at 0x000001F62EE1B1C0>\n",
      " 스택 odd   pop 3회:  <__main__.Stack object at 0x000001F62EE1B250>\n"
     ]
    }
   ],
   "source": [
    "odd = Stack()\n",
    "even = Stack()\n",
    "for i in range(10):\n",
    "    if i % 2 == 0: even.push(i)\n",
    "    else: odd.push(i)\n",
    "print(' 스택 even push 5회: ', even) #even 객체 출력\n",
    "print(' 스택 odd  push 5회: ', odd) #odd객체 출력\n",
    "print(' 스택 even     peek: ', even.peek())\n",
    "print(' 스택 odd      peek: ', odd.peek())\n",
    "for _ in range(2) : even.pop()\n",
    "for _ in range(3) : odd.pop()\n",
    "print(' 스택 even  pop 2회: ', even)\n",
    "print(' 스택 odd   pop 3회: ', odd)"
   ]
  },
  {
   "cell_type": "markdown",
   "id": "140bb48b",
   "metadata": {},
   "source": [
    "## 괄호검사 알고리즘  \n",
    "\n",
    "1. 열린 괄호나오면 스택에 삽입\n",
    "2. 닫힌 괄호나오면 스택에서 빼내어 비교\n",
    "\n",
    "개수오류, 비교오류, 스택공백오류"
   ]
  },
  {
   "cell_type": "code",
   "execution_count": 10,
   "id": "6da0598d",
   "metadata": {},
   "outputs": [
    {
     "name": "stdout",
     "output_type": "stream",
     "text": [
      "{ A[(i+1)] = 0; }  --->  True\n",
      "if( (i==0) && (j==0 ))  --->  True\n",
      "A[ (i+1] ) = 0;  --->  False\n"
     ]
    }
   ],
   "source": [
    "def checkBrackets(statement):\n",
    "    stack = Stack()\n",
    "    for ch in statement:  \n",
    "        if ch in ('{', '[', '('):\n",
    "            stack.push(ch)\n",
    "        elif ch in ('}', ']', ')'):\n",
    "            if stack.isEmpty() :\n",
    "                return False  #조건2위반  스택 공백 오류\n",
    "            else :\n",
    "                left = stack.pop() #오류 검색  } 이고 } 이면 오류\n",
    "                if (ch == \"}\" and left != \"{\") or \\\n",
    "                   (ch == \"]\" and left != \"[\") or \\\n",
    "                   (ch == \")\" and left != \"(\") :\n",
    "                    return False  #조건3위반\n",
    "    return stack.isEmpty()    #조건 1위반\n",
    "str = ( \"{ A[(i+1)] = 0; }\", \"if( (i==0) && (j==0 ))\", \"A[ (i+1] ) = 0;\" )\n",
    "for s in str:\n",
    "    m = checkBrackets(s)\n",
    "    print(s,\" ---> \", m)"
   ]
  },
  {
   "cell_type": "code",
   "execution_count": 12,
   "id": "f8b9c360",
   "metadata": {},
   "outputs": [],
   "source": [
    "def checkBracketsV2(lines):\n",
    "    stack = Stack()\n",
    "    for ch1 in lines:\n",
    "        print(ch1)\n",
    "        for ch in ch1:\n",
    "            print(\"ch:\",ch)\n",
    "            if ch in ('{', '[', '('):\n",
    "                stack.push(ch)\n",
    "            elif ch in ('}', ']', ')'):\n",
    "                if stack.isEmpty() :\n",
    "                    return False  #조건2위반\n",
    "                else :\n",
    "                    left = stack.pop() #오류 검색  } 이고 } 이면 오류\n",
    "                    if (ch == \"}\" and left != \"{\") or \\\n",
    "                       (ch == \"]\" and left != \"[\") or \\\n",
    "                       (ch == \")\" and left != \"(\") :\n",
    "                        return False  #조건2위반\n",
    "        return stack.isEmpty()    #조건 3위반"
   ]
  },
  {
   "cell_type": "code",
   "execution_count": 13,
   "id": "ed01cfcf",
   "metadata": {},
   "outputs": [
    {
     "name": "stdout",
     "output_type": "stream",
     "text": [
      "['riri {(((000)))}']\n",
      "riri {(((000)))}\n",
      "ch: r\n",
      "ch: i\n",
      "ch: r\n",
      "ch: i\n",
      "ch:  \n",
      "ch: {\n",
      "ch: (\n",
      "ch: (\n",
      "ch: (\n",
      "ch: 0\n",
      "ch: 0\n",
      "ch: 0\n",
      "ch: )\n",
      "ch: )\n",
      "ch: )\n",
      "ch: }\n",
      "M/test2.txt ---> True\n"
     ]
    }
   ],
   "source": [
    "filename = \"M/test2.txt\"\n",
    "infile = open(filename, \"r\")\n",
    "lines = infile.readlines()\n",
    "infile.close()\n",
    "print(lines)\n",
    "result = checkBracketsV2(lines)\n",
    "print(filename, \"--->\", result)"
   ]
  },
  {
   "cell_type": "markdown",
   "id": "6dd0a4d0",
   "metadata": {},
   "source": [
    "# 수식 계산\n",
    "\n",
    "# 후위 표기: 숫자(피연산자)스택에 저장\n",
    "괄호X\n",
    "우선순위X\n",
    "읽으면서 바로 계산"
   ]
  },
  {
   "cell_type": "code",
   "execution_count": 14,
   "id": "689c0c9c",
   "metadata": {},
   "outputs": [
    {
     "name": "stdout",
     "output_type": "stream",
     "text": [
      "['8', '2', '/', '3', '-', '3', '2', '*', '+']  -->  7.0\n",
      "['1', '2', '/', '4', '*', '1', '4', '/', '*']  -->  0.5\n"
     ]
    }
   ],
   "source": [
    "def evalPostfix( expr ):\n",
    "    s = Stack()      \n",
    "    for token in expr :\n",
    "        if token in \"+-*/\" :\n",
    "            val2 = s.pop()\n",
    "            val1 = s.pop()\n",
    "            if (token == '+'): s.push(val1 + val2)\n",
    "            elif (token == '-'): s.push(val1 - val2)\n",
    "            elif (token == '*'): s.push(val1 * val2)\n",
    "            elif (token == '/'): s.push(val1 / val2)\n",
    "        else :       \n",
    "            s.push( float(token) )\n",
    "    return s.pop() \n",
    "expr1 = [ '8', '2', '/', '3', '-', '3', '2', '*', '+']\n",
    "expr2 = [ '1', '2', '/', '4', '*', '1', '4', '/', '*']\n",
    "print(expr1, ' --> ', evalPostfix(expr1))\n",
    "print(expr2, ' --> ', evalPostfix(expr2))"
   ]
  },
  {
   "cell_type": "markdown",
   "id": "f6ddc420",
   "metadata": {},
   "source": [
    "# 중위 표기 수식의 후위 표기 변환\n",
    "### 후위표기: 숫자(피연산자)스택에 저장\n",
    "### 중위표기: 연산자 스택에 저장\n",
    "\n",
    "왼쪽 괄호는 무조건 스택 저장 우선순위 가장 낮다  \n",
    "오른쪽 괄호는 왼쪽 괄호 나올때까지 꺼내기"
   ]
  },
  {
   "cell_type": "code",
   "execution_count": 16,
   "id": "2c85faad",
   "metadata": {},
   "outputs": [],
   "source": [
    "def precedence (op):     #  우선순위\n",
    "    if   op=='(' or op==')' : return 0\n",
    "    elif op=='+' or op=='-' : return 1\n",
    "    elif op=='*' or op=='/' : return 2\n",
    "    else : return -1\n",
    "def Infix2Postfix( expr ): #expr중위표기식을 output 후위표기식에 변환\n",
    "    s = Stack()\n",
    "    output = []       \n",
    "    for term in expr :\n",
    "        if term in '(' :\n",
    "            s.push('(')\n",
    "        elif term in ')' :\n",
    "            while not s.isEmpty() : #오른쪽 괄호이면 왼쪽괄호일때까지 꺼내기\n",
    "                op = s.pop()\n",
    "                if op=='(' : break;\n",
    "                else :  \n",
    "                    output.append(op)\n",
    "        elif term in \"+-*/\" :\n",
    "            while not s.isEmpty() :\n",
    "                op = s.peek()\n",
    "                if( precedence(term) <= precedence(op)):\n",
    "                    output.append(op)\n",
    "                    s.pop()\n",
    "                else: break\n",
    "            s.push(term)\n",
    "        else :    # 피연산자이면 바로 출력\n",
    "            output.append(term)\n",
    "    while not s.isEmpty() :\n",
    "        output.append(s.pop())\n",
    "    return output"
   ]
  },
  {
   "cell_type": "code",
   "execution_count": 17,
   "id": "29c08116",
   "metadata": {},
   "outputs": [
    {
     "name": "stdout",
     "output_type": "stream",
     "text": [
      "  중위표기:  ['8', '/', '2', '-', '3', '+', '(', '3', '*', '2', ')']\n",
      "  후위표기:  ['8', '2', '/', '3', '-', '3', '2', '*', '+']\n",
      "  계산결과:  7.0\n",
      "\n",
      "  중위표기:  ['1', '/', '2', '*', '4', '*', '(', '1', '/', '4', ')']\n",
      "  후위표기:  ['1', '2', '/', '4', '*', '1', '4', '/', '*']\n",
      "  계산결과:  0.5\n"
     ]
    }
   ],
   "source": [
    "infix1 = [ '8', '/', '2', '-', '3', '+', '(', '3', '*', '2', ')']\n",
    "infix2 = [ '1', '/', '2', '*', '4', '*', '(', '1', '/', '4', ')']\n",
    "postfix1 = Infix2Postfix(infix1)\n",
    "postfix2 = Infix2Postfix(infix2)\n",
    "result1 = evalPostfix(postfix1)  #위 후위표기 함수 호출\n",
    "result2 = evalPostfix(postfix2)  #위 후위표기 함수 호출\n",
    "print('  중위표기: ', infix1)\n",
    "print('  후위표기: ', postfix1)\n",
    "print('  계산결과: ', result1, end='\\n\\n') #위 후위표기 함수 호출\n",
    "print('  중위표기: ', infix2)\n",
    "print('  후위표기: ', postfix2)\n",
    "print('  계산결과: ', result2)  #위 후위표기 함수 호출"
   ]
  },
  {
   "cell_type": "markdown",
   "id": "f2c9a0b6",
   "metadata": {},
   "source": [
    "# 미로탐색\n",
    "\n",
    "## 깊이우선 탐색: 스택 사용\n",
    "시행착오, 하나의 경로 선택하여 시도해보고 막히면 다른경로 시도  \n",
    "\n",
    "## 즉, 가던 길이 막히면 가장 최근에 있었던 갈림길로 되돌아가서 시도\n",
    "경로들을 스택에 저장: 깊이우선탐색(DFS: Depth First Search)  \n",
    "상,하,좌,우"
   ]
  },
  {
   "cell_type": "code",
   "execution_count": 18,
   "id": "a5844fc5",
   "metadata": {},
   "outputs": [
    {
     "name": "stdout",
     "output_type": "stream",
     "text": [
      "DFS: \n",
      "(0, 1)-> 현재 스택:  [(1, 1)]\n",
      "(1, 1)-> 현재 스택:  [(1, 2), (2, 1)]\n",
      "(2, 1)-> 현재 스택:  [(1, 2), (3, 1)]\n",
      "(3, 1)-> 현재 스택:  [(1, 2), (3, 2), (4, 1)]\n",
      "(4, 1)-> 현재 스택:  [(1, 2), (3, 2)]\n",
      "(3, 2)-> 현재 스택:  [(1, 2), (3, 3)]\n",
      "(3, 3)-> 현재 스택:  [(1, 2), (3, 4), (4, 3)]\n",
      "(4, 3)-> 현재 스택:  [(1, 2), (3, 4), (5, 3)]\n",
      "(5, 3)-> --> 미로탐색 성공\n"
     ]
    }
   ],
   "source": [
    "def isValidPos(x, y) :\n",
    "    if x < 0 or y < 0 or x >= MAZE_SIZE or y >= MAZE_SIZE :\n",
    "        return False\n",
    "    else :       \n",
    "        return map[y][x] == '0' or map[y][x] == 'x'\n",
    "def DFS() :  \n",
    "    stack = Stack()\n",
    "    stack.push( (0,1) )  #시작위치 삽입\n",
    "    print('DFS: ')\n",
    "    while not stack.isEmpty(): \n",
    "        here = stack.pop()    \n",
    "        print(here, end='->')\n",
    "        (x, y) = here   # 스택에 (x,y) 튜플로 \n",
    "        if (map[y][x] == 'x') :\n",
    "            return True\n",
    "        else :\n",
    "            map[y][x] = '.'\n",
    "            \n",
    "            if isValidPos(x, y - 1): stack.push((x, y - 1)) #상\n",
    "            if isValidPos(x, y + 1): stack.push((x, y + 1)) #하\n",
    "            if isValidPos(x - 1, y): stack.push((x - 1, y)) #좌\n",
    "            if isValidPos(x + 1, y): stack.push((x + 1, y)) #우\n",
    "        print(' 현재 스택: ', stack.top)  #스택 출력\n",
    "    return False          \n",
    "map = [ [ '1', '1', '1', '1', '1', '1' ],\n",
    "       [ 'e', '0', '0', '0', '0', '1' ],\n",
    "       [ '1', '0', '1', '0', '1', '1' ],\n",
    "       [ '1', '1', '1', '0', '0', 'x' ],\n",
    "       [ '1', '1', '1', '0', '1', '1' ],\n",
    "       [ '1', '1', '1', '1', '1', '1' ]]\n",
    "MAZE_SIZE = 6\n",
    "result = DFS()\n",
    "if result : print(' --> 미로탐색 성공')\n",
    "else : print(' --> 미로탐색 실패')"
   ]
  },
  {
   "cell_type": "markdown",
   "id": "ea3c5931",
   "metadata": {},
   "source": [
    "# 선형 큐 \n",
    "dequeue(): 삭제 연산 O(n)  \n",
    "선형큐는 비효율적이다."
   ]
  },
  {
   "cell_type": "code",
   "execution_count": 19,
   "id": "e38fb817",
   "metadata": {},
   "outputs": [
    {
     "name": "stdout",
     "output_type": "stream",
     "text": [
      " enqueue 5회:  [1, 2, 3, 4, 5]\n",
      " dequeue() -->  1\n",
      " dequeue() -->  2\n",
      " dequeue  2회:  [3, 4, 5]\n"
     ]
    }
   ],
   "source": [
    "items = [ ]\n",
    "def isEmpty():\n",
    "    return len(items) == 0\n",
    "def enqueue(item):\n",
    "    items.append(item)\n",
    "def dequeue():\n",
    "    if not isEmpty():\n",
    "        return items.pop(0)\n",
    "def peek():       \n",
    "    if not isEmpty(): return items[-1]\n",
    "for i in range(1,6):\n",
    "    enqueue(i)     \n",
    "print(' enqueue 5회: ', items)\n",
    "print(' dequeue() --> ', dequeue())\n",
    "print(' dequeue() --> ', dequeue())\n",
    "print(' dequeue  2회: ', items)"
   ]
  },
  {
   "cell_type": "markdown",
   "id": "17b0b83c",
   "metadata": {},
   "source": [
    "# 원형 큐\n",
    "전단과 후단을 위한 2개의 변수\n",
    "front: 첫번째 요소 하나 앞의 인덱스\n",
    "rear: 마지막 요소의 인덱스\n",
    "\n",
    "공백상태:front == rear\n",
    "포화상태:front ==(rear+1)%M\n",
    "\n",
    "## 공백상태와 포화상태를 구별 방법은?\n",
    "# 하나의 공간은 항상 비워둠"
   ]
  },
  {
   "cell_type": "code",
   "execution_count": 5,
   "id": "deb6f215",
   "metadata": {},
   "outputs": [
    {
     "name": "stdout",
     "output_type": "stream",
     "text": [
      "[f=0,r=9] ==>  [0, 1, 2, 3, 4, 5, 6, 7, 8]\n",
      "[f=5,r=9] ==>  [5, 6, 7, 8]\n",
      "[f=5,r=4] ==>  [5, 6, 7, 8, 9, 10, 11, 12, 13]\n"
     ]
    }
   ],
   "source": [
    "MAX_QSIZE = 10   \n",
    "class CircularQueue :\n",
    "    def __init__( self ) :\n",
    "        self.front = 0\n",
    "        self.rear = 0\n",
    "        self.items = [None] * MAX_QSIZE\n",
    "    def isEmpty( self ) : return self.front == self.rear\n",
    "    def isFull( self ) : return self.front == (self.rear+1)%MAX_QSIZE\n",
    "    def clear( self ) : self.front = self.rear\n",
    "    def enqueue( self, item ):\n",
    "        if not self.isFull():         \n",
    "            self.rear = (self.rear+1)% MAX_QSIZE\n",
    "            self.items[self.rear] = item   \n",
    "    def dequeue( self ):\n",
    "        if not self.isEmpty():            \n",
    "            self.front = (self.front+1)% MAX_QSIZE\n",
    "            return self.items[self.front]       \n",
    "    def peek( self ):\n",
    "        if not self.isEmpty():\n",
    "            return self.items[(self.front + 1) % MAX_QSIZE]\n",
    "    def size( self ) :\n",
    "        return (self.rear - self.front + MAX_QSIZE) % MAX_QSIZE\n",
    "    def display( self ):\n",
    "        out = []\n",
    "        if self.front < self.rear :\n",
    "            out = self.items[self.front+1:self.rear+1]\n",
    "        else:\n",
    "            out = self.items[self.front+1:MAX_QSIZE] \\\n",
    "                + self.items[0:self.rear+1]\n",
    "        print(\"[f=%s,r=%d] ==> \"%(self.front, self.rear), out)\n",
    "q = CircularQueue()      \n",
    "for i in range(10): q.enqueue(i)\n",
    "q.display()  \n",
    "for i in range(5): q.dequeue()\n",
    "q.display()\n",
    "for i in range(9, 14): q.enqueue(i)\n",
    "q.display()"
   ]
  },
  {
   "cell_type": "code",
   "execution_count": 6,
   "id": "37265249",
   "metadata": {},
   "outputs": [
    {
     "name": "stdout",
     "output_type": "stream",
     "text": [
      "큐의 내용: 1 2 3 4 5 6 7 8 9 \n"
     ]
    }
   ],
   "source": [
    "import queue   \n",
    "Q = queue.Queue(maxsize=20)\n",
    "for v in range(1, 10) : \n",
    "    Q.put(v)\n",
    "print(\"큐의 내용: \", end='')  \n",
    "for _ in range(1, 10) :   #  언더바는 실제 사용되지 않는 값으로 dummy variable\n",
    "    print(Q.get(), end=' ')\n",
    "print()"
   ]
  },
  {
   "cell_type": "markdown",
   "id": "c3c047f8",
   "metadata": {},
   "source": [
    "# 덱 q 상속\n",
    "- 원형 덱으로 구현하는 것이 시간 복잡도 O(1)\n",
    "\n",
    "## add_front, delete_rear(), get_rear()\n",
    "- add_front와 delete_rear는 반시계 방향 회전\n",
    "- front와 rear는 반대방향"
   ]
  },
  {
   "cell_type": "code",
   "execution_count": null,
   "id": "7e353eaf",
   "metadata": {},
   "outputs": [],
   "source": []
  }
 ],
 "metadata": {
  "kernelspec": {
   "display_name": "Python 3",
   "language": "python",
   "name": "python3"
  },
  "language_info": {
   "codemirror_mode": {
    "name": "ipython",
    "version": 3
   },
   "file_extension": ".py",
   "mimetype": "text/x-python",
   "name": "python",
   "nbconvert_exporter": "python",
   "pygments_lexer": "ipython3",
   "version": "3.8.8"
  }
 },
 "nbformat": 4,
 "nbformat_minor": 5
}

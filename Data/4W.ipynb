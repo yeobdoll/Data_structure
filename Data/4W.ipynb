{
 "cells": [
  {
   "cell_type": "markdown",
   "id": "efb21e66",
   "metadata": {},
   "source": [
    "### 학과: AI소프트웨어\n",
    "### 학번: 2018315006\n",
    "### 성명: 정성엽"
   ]
  },
  {
   "cell_type": "code",
   "execution_count": 1,
   "id": "59b2b487",
   "metadata": {},
   "outputs": [],
   "source": [
    "items = []  \n",
    "def insert(pos, elem) :   #O(n) 삽입하면 밀어서 ..\n",
    "    items.insert(pos, elem)\n",
    "def delete(pos) :  #O(n) 1번 삭제하면 앞으로 이동\n",
    "    items.pop(pos)  \n",
    "def getEntry(pos): return items[pos]\n",
    "def isEmpty( ):\n",
    "    return size() == 0\n",
    "    #if len(items) == 0 :\n",
    "        #return True\n",
    "    #else :\n",
    "       # return False\n",
    "def size( ):   #리스트의 크기 반환\n",
    "    return len(items)\n",
    "def clear( ):   \n",
    "    #global items\n",
    "    items = []      \n",
    "def find(item) : return items.index(item)\n",
    "def replace(pos, elem): items[pos] = elem\n",
    "def sort() : items.sort()\n",
    "def merge(lst) : items.extend(lst)\n",
    "def display(msg='ArrayList:' ):  #디폴트 매개변수\n",
    "    print(msg, size(), items) #items값은 파이썬의 리스트를 문자열로 출력"
   ]
  },
  {
   "cell_type": "code",
   "execution_count": 2,
   "id": "de28d889",
   "metadata": {},
   "outputs": [
    {
     "name": "stdout",
     "output_type": "stream",
     "text": [
      "파이썬 리스트로 구현한 리스트 테스트 0 []\n",
      "파이썬 리스트로 구현한 List(삽입x5):  5 [20, 30, 50, 10, 40]\n",
      "파이썬 리스트로 구현한 List(정렬후):  5 [10, 20, 30, 40, 50]\n",
      "파이썬 리스트로 구현한 List(교체x1):  5 [10, 20, 90, 40, 50]\n",
      "파이썬 리스트로 구현한 List(삭제x1):  4 [10, 20, 40, 50]\n",
      "파이썬 리스트로 구현한 List(삭제x2):  3 [10, 20, 40]\n",
      "파이썬 리스트로 구현한 List(삭제x3):  2 [20, 40]\n",
      "파이썬 리스트로 구현한 List(병합+3):  5 [20, 40, 1, 2, 3]\n",
      "1\n",
      "파이썬 리스트로 구현한 List(정리후):  5 [20, 40, 1, 2, 3]\n",
      "ArrayList: 5 [20, 40, 1, 2, 3]\n"
     ]
    }
   ],
   "source": [
    "display('파이썬 리스트로 구현한 리스트 테스트')\n",
    "insert(0, 10)  #[10]\n",
    "insert(0, 20)  #[20,10]\n",
    "insert(1, 30)  #[20,30,10] \n",
    "insert(size(), 40)  #[20,30,10,40] \n",
    "insert(2, 50)  #[20,30,50,10,40] \n",
    "display(\"파이썬 리스트로 구현한 List(삽입x5): \")\n",
    "sort()   #[10,20,30,40,50] \n",
    "display(\"파이썬 리스트로 구현한 List(정렬후): \")\n",
    "replace(2, 90)  #[10,20,90,40,50] \n",
    "display(\"파이썬 리스트로 구현한 List(교체x1): \")\n",
    "delete(2)   #[10,20,40,50]  \n",
    "display(\"파이썬 리스트로 구현한 List(삭제x1): \")\n",
    "delete(size() - 1) #[10,20,40] \n",
    "display(\"파이썬 리스트로 구현한 List(삭제x2): \")\n",
    "delete(0) #[20,40] \n",
    "display(\"파이썬 리스트로 구현한 List(삭제x3): \")\n",
    "lst = [ 1, 2, 3 ]\n",
    "merge(lst)  #[20,40, 1,2,3] \n",
    "display(\"파이썬 리스트로 구현한 List(병합+3): \")\n",
    "print(find(40))\n",
    "clear()\n",
    "display(\"파이썬 리스트로 구현한 List(정리후): \")  #정리?\n",
    "display()"
   ]
  },
  {
   "cell_type": "markdown",
   "id": "da2bca8b",
   "metadata": {},
   "source": [
    "# M폴더에 arr모듈 사용"
   ]
  },
  {
   "cell_type": "code",
   "execution_count": 3,
   "id": "186f1e0f",
   "metadata": {},
   "outputs": [
    {
     "name": "stdout",
     "output_type": "stream",
     "text": [
      "파이썬 리스트로 구현한 리스트 테스트 0 []\n",
      "파이썬 리스트로 구현한 List(삽입x5):  5 [20, 30, 50, 10, 40]\n",
      "파이썬 리스트로 구현한 List(정렬후):  5 [10, 20, 30, 40, 50]\n",
      "파이썬 리스트로 구현한 List(교체x1):  5 [10, 20, 90, 40, 50]\n",
      "파이썬 리스트로 구현한 List(삭제x1):  4 [10, 20, 40, 50]\n",
      "파이썬 리스트로 구현한 List(삭제x2):  3 [10, 20, 40]\n",
      "파이썬 리스트로 구현한 List(삭제x3):  2 [20, 40]\n",
      "파이썬 리스트로 구현한 List(병합+3):  5 [20, 40, 1, 2, 3]\n",
      "1\n",
      "파이썬 리스트로 구현한 List(정리후):  0 []\n",
      "ArrayList: 0 []\n"
     ]
    }
   ],
   "source": [
    "from M.arr import *\n",
    "display('파이썬 리스트로 구현한 리스트 테스트')\n",
    "insert(0, 10)  #[10]\n",
    "insert(0, 20)  #[20,10]\n",
    "insert(1, 30)  #[20,30,10] \n",
    "insert(size(), 40)  #[20,30,10,40] \n",
    "insert(2, 50)  #[20,30,50,10,40] \n",
    "display(\"파이썬 리스트로 구현한 List(삽입x5): \")\n",
    "sort()   #[10,20,30,40,50] \n",
    "display(\"파이썬 리스트로 구현한 List(정렬후): \")\n",
    "replace(2, 90)  #[10,20,90,40,50] \n",
    "display(\"파이썬 리스트로 구현한 List(교체x1): \")\n",
    "delete(2)   #[10,20,40,50]  \n",
    "display(\"파이썬 리스트로 구현한 List(삭제x1): \")\n",
    "delete(size() - 1) #[10,20,40] \n",
    "display(\"파이썬 리스트로 구현한 List(삭제x2): \")\n",
    "delete(0) #[20,40] \n",
    "display(\"파이썬 리스트로 구현한 List(삭제x3): \")\n",
    "lst = [ 1, 2, 3 ]\n",
    "merge(lst)  #[20,40, 1,2,3] \n",
    "display(\"파이썬 리스트로 구현한 List(병합+3): \")\n",
    "print(find(40))\n",
    "clear()\n",
    "display(\"파이썬 리스트로 구현한 List(정리후): \")  #정리?\n",
    "display()"
   ]
  },
  {
   "cell_type": "markdown",
   "id": "191d95a5",
   "metadata": {},
   "source": [
    "# 클래스로 구현\n",
    "1. 함수를 들여쓰기\n",
    "2. 함수의 첫번째 매개변수로 self추가\n",
    "3. 클래스의 멤버함수 호출할 때 self."
   ]
  },
  {
   "cell_type": "code",
   "execution_count": 5,
   "id": "ab0cb375",
   "metadata": {},
   "outputs": [],
   "source": [
    "class ArrayList:\n",
    "    def __init__(self): \n",
    "        self.items = []  \n",
    "        \n",
    "    def insert(self, pos, elem) :   #O(n) 삽입하면 밀어서 ..\n",
    "        self.items.insert(pos, elem)\n",
    "    def delete(self, pos) :  #O(n) 1번 삭제하면 앞으로 이동\n",
    "        self.items.pop(pos)  \n",
    "    def getEntry(self, pos): return items[pos]\n",
    "    def isEmpty(self):\n",
    "        return self.size() == 0\n",
    "        #if len(items) == 0 :\n",
    "            #return True\n",
    "        #else :\n",
    "           # return False\n",
    "    def size(self):   #리스트의 크기 반환\n",
    "        return len(self.items)\n",
    "    def clear(self):   \n",
    "        #global items\n",
    "        self.items = []      \n",
    "    def find(self,item) : return self.items.index(item)\n",
    "    def replace(self, pos, elem): self.items[pos] = elem\n",
    "    def sort(self) : self.items.sort()\n",
    "    def merge(self,lst) : self.items.extend(lst)\n",
    "    def display(self, msg='ArrayList:' ):  #디폴트 매개변수\n",
    "        print(msg, size(), self.items) #items값은 파이썬의 리스트를 문자열로 출력"
   ]
  },
  {
   "cell_type": "code",
   "execution_count": 7,
   "id": "ea38e7a8",
   "metadata": {},
   "outputs": [
    {
     "name": "stdout",
     "output_type": "stream",
     "text": [
      "파이썬 리스트로 구현한 리스트 테스트 0 []\n",
      "파이썬 리스트로 구현한 List(삽입x5):  0 [20, 30, 50, 10, 40]\n",
      "파이썬 리스트로 구현한 List(정렬후):  0 [10, 20, 30, 40, 50]\n",
      "파이썬 리스트로 구현한 List(교체x1):  0 [10, 20, 90, 40, 50]\n",
      "파이썬 리스트로 구현한 List(삭제x1):  0 [10, 20, 40, 50]\n",
      "파이썬 리스트로 구현한 List(삭제x2):  0 [10, 20, 40]\n",
      "파이썬 리스트로 구현한 List(삭제x3):  0 [20, 40]\n",
      "파이썬 리스트로 구현한 List(병합+3):  0 [20, 40, 1, 2, 3]\n",
      "1\n",
      "파이썬 리스트로 구현한 List(정리후):  0 []\n",
      "ArrayList: 0 []\n"
     ]
    }
   ],
   "source": [
    "s = ArrayList()\n",
    "s.display('파이썬 리스트로 구현한 리스트 테스트')\n",
    "s.insert(0, 10)  #[10]\n",
    "s.insert(0, 20)  #[20,10]\n",
    "s.insert(1, 30)  #[20,30,10] \n",
    "s.insert(s.size(), 40)  #[20,30,10,40] \n",
    "s.insert(2, 50)  #[20,30,50,10,40] \n",
    "s.display(\"파이썬 리스트로 구현한 List(삽입x5): \")\n",
    "s.sort()   #[10,20,30,40,50] \n",
    "s.display(\"파이썬 리스트로 구현한 List(정렬후): \")\n",
    "s.replace(2, 90)  #[10,20,90,40,50] \n",
    "s.display(\"파이썬 리스트로 구현한 List(교체x1): \")\n",
    "s.delete(2)   #[10,20,40,50]  \n",
    "s.display(\"파이썬 리스트로 구현한 List(삭제x1): \")\n",
    "s.delete(s.size() - 1) #[10,20,40] \n",
    "s.display(\"파이썬 리스트로 구현한 List(삭제x2): \")\n",
    "s.delete(0) #[20,40] \n",
    "s.display(\"파이썬 리스트로 구현한 List(삭제x3): \")\n",
    "lst = [ 1, 2, 3 ]\n",
    "s.merge(lst)  #[20,40, 1,2,3] \n",
    "s.display(\"파이썬 리스트로 구현한 List(병합+3): \")\n",
    "print(s.find(40))\n",
    "s.clear()\n",
    "s.display(\"파이썬 리스트로 구현한 List(정리후): \")  #정리?\n",
    "s.display()"
   ]
  },
  {
   "cell_type": "markdown",
   "id": "e9433460",
   "metadata": {},
   "source": [
    "# 여러 개 리스트 사용할때는 전역변수 items[] 1개이기 때문에 사용 못함\n",
    "# 물론 모든 함수의 매개변수에 배열 추가 가능하지만~"
   ]
  },
  {
   "cell_type": "code",
   "execution_count": 14,
   "id": "b47ec4b6",
   "metadata": {},
   "outputs": [
    {
     "name": "stdout",
     "output_type": "stream",
     "text": [
      "[메뉴선택] i-입력, d-삭제, r-변경, p-출력, l-파일읽기, s-저장, q-종료=> q\n"
     ]
    }
   ],
   "source": [
    "def myLineEditor() :\n",
    "    list = ArrayList()\n",
    "    while True :\n",
    "        command = input(\"[메뉴선택] i-입력, d-삭제, r-변경, p-출력, l-파일읽기, s-저장, q-종료=> \")\n",
    "        if command == 'i' :\n",
    "            pos = int( input(\"  입력행 번호: \"))\n",
    "            str = input(\"  입력행 내용: \")   \n",
    "            list.insert(pos, str)\n",
    "        elif command == 'd' :\n",
    "            pos = int( input(\"  삭제행 번호: \"))\n",
    "            list.delete(pos)\n",
    "        elif command == 'r' :\n",
    "            pos = int( input(\"  변경행 번호: \"))\n",
    "            str = input(\"  변경행 내용: \")    \n",
    "            list.replace(pos, str)       \n",
    "        elif command == 'q' : return        \n",
    "        elif command == 'p' :            \n",
    "            print('Line Editor')\n",
    "            for line in range (list.size()) :   \n",
    "                print('[%2d] '%line, end='')    \n",
    "                print(list.getEntry(line))      \n",
    "            print()                    \n",
    "        elif command == 'l' :       \n",
    "            filename = 'M/test.txt'    # 인코딩방식 ANSI로 저장\n",
    "            infile = open(filename , \"r\")       \n",
    "            lines = infile.readlines()       \n",
    "            for line in lines:          \n",
    "                list.insert(list.size(), line.rstrip('\\n'))\n",
    "            infile.close()\n",
    "        elif command == 's' :\n",
    "            filename = 'M/test.txt'\n",
    "            outfile = open(filename , \"w\")\n",
    "            for i in range(list.size()) :\n",
    "                outfile.write(list.getItem(i)+'\\n')\n",
    "            outfile.close()\n",
    "myLineEditor()"
   ]
  },
  {
   "cell_type": "code",
   "execution_count": 18,
   "id": "f32a9e2f",
   "metadata": {},
   "outputs": [
    {
     "name": "stdout",
     "output_type": "stream",
     "text": [
      "Set A: ['휴대폰', '지갑', '손수건']\n",
      "\n",
      "Set B: ['빗', '파이썬 자료구조', '야구공', '지갑']\n",
      "Set B: ['빗', '파이썬 자료구조', '야구공', '지갑']\n",
      "\n",
      "Set A: ['휴대폰', '지갑']\n",
      "A U B: ['휴대폰', '지갑', '빗', '파이썬 자료구조', '야구공']\n",
      "A ^ B: ['지갑']\n",
      "A – B: ['휴대폰']\n"
     ]
    }
   ],
   "source": [
    "class Set:       \n",
    "    def __init__( self ):\n",
    "        self.items = []\n",
    "    def size( self ): \n",
    "        return len(self.items)\n",
    "    def display(self, msg):\n",
    "        print(msg, self.items)\n",
    "    def contains(self, item) :\n",
    "        return item in self.items   #O(n)\n",
    "#    def contains(self, item) :   O(n)\n",
    "#        for i in range(len(self.items)):\n",
    "#            if self.items[i] == item :\n",
    "#                return True\n",
    "#        return False\n",
    "    def insert(self, elem) :  \n",
    "        if elem not in self.items :  #O(n)\n",
    "            self.items.append(elem)  #O(1)\n",
    "    def delete(self, elem) :\n",
    "        if elem in self.items :  #O(n)\n",
    "            self.items.remove(elem)\n",
    "    def union( self, setB ):  #O(n^2)\n",
    "        setC = Set()     \n",
    "        setC.items = list(self.items)\n",
    "        for elem in setB.items :       #O(n)\n",
    "            if elem not in self.items :  #O(n)\n",
    "                setC.items.append(elem)\n",
    "        return setC        \n",
    "    def intersect( self, setB ):\n",
    "        setC = Set()\n",
    "        for elem in setB.items :\n",
    "            if elem in self.items :\n",
    "                setC.items.append(elem)\n",
    "        return setC\n",
    "    def difference( self, setB ):    \n",
    "        setC = Set()\n",
    "        for elem in self.items:   \n",
    "            if elem not in setB.items:\n",
    "                setC.items.append(elem)\n",
    "        return setC\n",
    "setA = Set()\n",
    "setA.insert('휴대폰')\n",
    "setA.insert('지갑')\n",
    "setA.insert('손수건')\n",
    "setA.display('Set A:')\n",
    "\n",
    "print()\n",
    "\n",
    "setB = Set()\n",
    "setB .insert('빗')\n",
    "setB .insert('파이썬 자료구조')\n",
    "setB .insert('야구공')\n",
    "setB .insert('지갑')\n",
    "setB.display('Set B:')\n",
    "setB.insert('빗')\n",
    "setB.display('Set B:')\n",
    "\n",
    "print()\n",
    "\n",
    "setA.delete('손수건')\n",
    "setA.display('Set A:')\n",
    "setA.union(setB).display('A U B:')\n",
    "setA.intersect(setB).display('A ^ B:')\n",
    "setA.difference(setB).display('A – B:')"
   ]
  },
  {
   "cell_type": "markdown",
   "id": "431686b1",
   "metadata": {},
   "source": [
    "# 스택\n",
    "- 스택(stack): 쌓아놓은 더미\n",
    "- 후입선출(LIFO: Last-In First-Out): 가장 최근에 들어온 데이터긴 가장 먼저 나감\n",
    "\n",
    "- 연산: isEmpty() push() pop() peek() display()\n",
    "- 항목 삽입/삭제 위치: 리스트의 맨 뒤가 유리함.Why?\n"
   ]
  },
  {
   "cell_type": "code",
   "execution_count": 30,
   "id": "e018f75a",
   "metadata": {},
   "outputs": [],
   "source": [
    "top = [] # 스택의 데이터: 항목을 위한 공백 리스트\n",
    "def isEmpty():\n",
    "    return len(top)==0\n",
    "def push(item):\n",
    "    top.append(item) # 리스트 맨뒤에 item 추가\n",
    "def pop():\n",
    "    if not isEmpty():\n",
    "        return top.pop(-1) # 리스트 맨뒤에서 항목 꺼내고 반환\n",
    "def peek():\n",
    "    if not isEmpty():\n",
    "        return top[-1]  #리스트 맨뒤에 항목을 반환(삭제X)\n",
    "def size(): return len(top)\n",
    "def clear():\n",
    "    global top\n",
    "    top = []"
   ]
  },
  {
   "cell_type": "code",
   "execution_count": 31,
   "id": "05fe7ce3",
   "metadata": {},
   "outputs": [
    {
     "name": "stdout",
     "output_type": "stream",
     "text": [
      " push 5회:  [1, 2, 3, 4, 5]\n",
      " pop() -->  5\n",
      " pop() -->  4\n",
      " pop  2회:  [1, 2, 3]\n",
      " push+2회:  [1, 2, 3, '홍길동', '이순신']\n",
      " pop() -->  이순신\n",
      " pop  1회:  [1, 2, 3, '홍길동']\n"
     ]
    }
   ],
   "source": [
    "for i in range(1,6):\n",
    "    push(i)\n",
    "\n",
    "print(' push 5회: ', top)\n",
    "\n",
    "print(' pop() --> ', pop())\n",
    "\n",
    "print(' pop() --> ', pop())\n",
    "\n",
    "print(' pop  2회: ', top)\n",
    "\n",
    "push('홍길동')\n",
    "\n",
    "push('이순신')\n",
    "\n",
    "print(' push+2회: ', top)\n",
    "\n",
    "print(' pop() --> ', pop())\n",
    "\n",
    "print(' pop  1회: ', top)"
   ]
  },
  {
   "cell_type": "code",
   "execution_count": null,
   "id": "45214d17",
   "metadata": {},
   "outputs": [],
   "source": []
  }
 ],
 "metadata": {
  "kernelspec": {
   "display_name": "Python 3",
   "language": "python",
   "name": "python3"
  },
  "language_info": {
   "codemirror_mode": {
    "name": "ipython",
    "version": 3
   },
   "file_extension": ".py",
   "mimetype": "text/x-python",
   "name": "python",
   "nbconvert_exporter": "python",
   "pygments_lexer": "ipython3",
   "version": "3.8.8"
  }
 },
 "nbformat": 4,
 "nbformat_minor": 5
}

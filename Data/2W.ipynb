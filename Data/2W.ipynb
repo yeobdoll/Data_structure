{
 "cells": [
  {
   "cell_type": "markdown",
   "id": "edc2d97b",
   "metadata": {},
   "source": [
    "# 컴퓨터 데이터 구조\n",
    "## 2018315006 정성엽\n"
   ]
  },
  {
   "cell_type": "code",
   "execution_count": 9,
   "id": "805b7e51",
   "metadata": {},
   "outputs": [],
   "source": [
    "def contains(bag, e):\n",
    "    return e in bag\n",
    "\n",
    "def insert(bag, e):\n",
    "    bag.append(e)\n",
    "\n",
    "def remove(bag, e):\n",
    "    bag.remove(e)\n",
    "\n",
    "def count(bag):\n",
    "    return len(bag)"
   ]
  },
  {
   "cell_type": "code",
   "execution_count": 10,
   "id": "79665153",
   "metadata": {},
   "outputs": [
    {
     "name": "stdout",
     "output_type": "stream",
     "text": [
      "가방속의 물건 ['휴대폰', '지갑', '손수건', '빗', '자료구조', '야구공']\n",
      "가방속의 물건 ['휴대폰', '지갑', '빗', '자료구조', '야구공', '빗']\n"
     ]
    }
   ],
   "source": [
    "myBag = []\n",
    "insert(myBag, '휴대폰')\n",
    "insert(myBag, '지갑')\n",
    "insert(myBag, '손수건')\n",
    "insert(myBag, '빗')\n",
    "insert(myBag, '자료구조')\n",
    "insert(myBag, '야구공')\n",
    "print('가방속의 물건', myBag)\n",
    "\n",
    "insert(myBag, '빗')\n",
    "remove(myBag, '손수건')\n",
    "print('가방속의 물건', myBag)"
   ]
  },
  {
   "cell_type": "code",
   "execution_count": 19,
   "id": "a844b5ac",
   "metadata": {
    "scrolled": true
   },
   "outputs": [
    {
     "name": "stdout",
     "output_type": "stream",
     "text": [
      "가방속의 물건 ['축구공', '휴대폰', '지갑', '손수건', '빗', '자료구조', '야구공']\n",
      "실행시간 = 0.0012047290802001953\n"
     ]
    }
   ],
   "source": [
    "import time\n",
    "myBag=[]\n",
    "start = time.time()\n",
    "insert(myBag, '축구공')\n",
    "insert(myBag, '휴대폰')\n",
    "insert(myBag, '지갑')\n",
    "insert(myBag, '손수건')\n",
    "insert(myBag, '빗')\n",
    "insert(myBag, '자료구조')\n",
    "insert(myBag, '야구공')\n",
    "print('가방속의 물건', myBag)\n",
    "\n",
    "end = time.time()\n",
    "print(\"실행시간 =\", end - start)"
   ]
  },
  {
   "cell_type": "markdown",
   "id": "def6e291",
   "metadata": {},
   "source": [
    "# 순환은 간결하지만 실행속도면에서 많은 경우 호출 부담에 의해 반복보다 느리다"
   ]
  },
  {
   "cell_type": "code",
   "execution_count": 20,
   "id": "bfd317ca",
   "metadata": {
    "scrolled": false
   },
   "outputs": [
    {
     "name": "stdout",
     "output_type": "stream",
     "text": [
      "6\n",
      "30\n",
      "120\n",
      "360\n",
      "720\n",
      "720\n"
     ]
    },
    {
     "data": {
      "text/plain": [
       "720"
      ]
     },
     "execution_count": 20,
     "metadata": {},
     "output_type": "execute_result"
    }
   ],
   "source": [
    "def factorials(n):\n",
    "    if n==1: return 1\n",
    "    else: \n",
    "        return n * factorials(n-1)\n",
    "    \n",
    "def factorial(n):\n",
    "    result=1\n",
    "    for k in range(n, 0 , -1):\n",
    "        result = result * k\n",
    "        print(result)\n",
    "    return result\n",
    "\n",
    "factorial(6)"
   ]
  },
  {
   "cell_type": "markdown",
   "id": "59fa4943",
   "metadata": {},
   "source": [
    "# 순환이 더 빠른 예: 거듭제곱 계산\n",
    "1번의 순환 호출이 일어날때마다\n",
    "\n",
    "1번의 곱셈과 1번의 나눗셈이 일어나므로\n",
    "\n",
    "전체 연산 개수는 〖log2〗^n=k에 비례"
   ]
  },
  {
   "cell_type": "code",
   "execution_count": 24,
   "id": "0226bc6a",
   "metadata": {
    "scrolled": false
   },
   "outputs": [
    {
     "name": "stdout",
     "output_type": "stream",
     "text": [
      "실행시간= 0.4907362461090088\n"
     ]
    },
    {
     "data": {
      "text/plain": [
       "3.273390607896142e+150"
      ]
     },
     "execution_count": 24,
     "metadata": {},
     "output_type": "execute_result"
    }
   ],
   "source": [
    "import time\n",
    "\n",
    "def power_iter(x, n) : \n",
    "    result = 1.0\n",
    "    for i in range(n):\n",
    "        result = result * x\n",
    "    return result\n",
    "def power(x, n) :\n",
    "    if n == 0 : return 1\n",
    "    elif (n % 2) == 0 :      \n",
    "        return power(x*x, n//2) \n",
    "    else :\n",
    "        return x * power(x*x, (n-1)//2)\n",
    "\n",
    "start = time.time()\n",
    "for i in range(0, 100000, 1):\n",
    "    power(2.0, 500)\n",
    "    \n",
    "end = time.time()\n",
    "print(\"실행시간=\", end - start)\n",
    "power(2.0, 500)"
   ]
  },
  {
   "cell_type": "code",
   "execution_count": 25,
   "id": "a0525fc0",
   "metadata": {},
   "outputs": [
    {
     "name": "stdout",
     "output_type": "stream",
     "text": [
      "실행시간= 3.9159746170043945\n"
     ]
    },
    {
     "data": {
      "text/plain": [
       "3.273390607896142e+150"
      ]
     },
     "execution_count": 25,
     "metadata": {},
     "output_type": "execute_result"
    }
   ],
   "source": [
    "import time\n",
    "\n",
    "def power_iter(x, n) : \n",
    "    result = 1.0\n",
    "    for i in range(n):\n",
    "        result = result * x\n",
    "    return result\n",
    "\n",
    "def power(x, n) :\n",
    "    if n == 0 : return 1\n",
    "    elif (n % 2) == 0 :      \n",
    "        return power(x*x, n//2) \n",
    "    else :\n",
    "        return x * power(x*x, (n-1)//2)\n",
    "\n",
    "start = time.time()\n",
    "for i in range(0, 100000, 1):\n",
    "    power_iter(2.0, 500)\n",
    "    \n",
    "end = time.time()\n",
    "print(\"실행시간=\", end - start)\n",
    "power_iter(2.0, 500)"
   ]
  },
  {
   "cell_type": "markdown",
   "id": "a36a4d4d",
   "metadata": {},
   "source": [
    "# 순환이 훨씬 느린 경우: 피보나치 수열 계산"
   ]
  },
  {
   "cell_type": "code",
   "execution_count": 28,
   "id": "6de6c805",
   "metadata": {},
   "outputs": [
    {
     "name": "stdout",
     "output_type": "stream",
     "text": [
      "4\n",
      "3\n",
      "2\n",
      "1\n",
      "0\n",
      "1\n",
      "2\n",
      "1\n",
      "0\n"
     ]
    },
    {
     "data": {
      "text/plain": [
       "3"
      ]
     },
     "execution_count": 28,
     "metadata": {},
     "output_type": "execute_result"
    }
   ],
   "source": [
    "# 피보나치  순환\n",
    "def fib(n) :\n",
    "    print(n)\n",
    "    if n == 0 : return 0\n",
    "    elif n == 1 : return 1\n",
    "    else :\n",
    "        return fib(n - 1) + fib(n - 2)\n",
    "\n",
    "# 반복\n",
    "def fib_iter(n) :\n",
    "    if (n < 2): \n",
    "        return n\n",
    "    last = 0\n",
    "    current = 1\n",
    "    for i in range(2, n+1) :\n",
    "        tmp = current\n",
    "        current += last\n",
    "        last = tmp\n",
    "        print(n)\n",
    "    return current\n",
    "\n",
    "fib(4)"
   ]
  },
  {
   "cell_type": "markdown",
   "id": "7ea7f97f",
   "metadata": {},
   "source": [
    "# 순환은 복잡한 문제를 쉽게 해결? 하노이탑"
   ]
  },
  {
   "cell_type": "code",
   "execution_count": 30,
   "id": "d86f493d",
   "metadata": {},
   "outputs": [
    {
     "name": "stdout",
     "output_type": "stream",
     "text": [
      "원판 1: A --> C\n",
      "원판 2: A --> B\n",
      "원판 1: C --> B\n",
      "원판 3: A --> C\n",
      "원판 1: B --> A\n",
      "원판 2: B --> C\n",
      "원판 1: A --> C\n",
      "원판 4: A --> B\n",
      "원판 1: C --> B\n",
      "원판 2: C --> A\n",
      "원판 1: B --> A\n",
      "원판 3: C --> B\n",
      "원판 1: A --> C\n",
      "원판 2: A --> B\n",
      "원판 1: C --> B\n",
      "원판 5: A --> C\n",
      "원판 1: B --> A\n",
      "원판 2: B --> C\n",
      "원판 1: A --> C\n",
      "원판 3: B --> A\n",
      "원판 1: C --> B\n",
      "원판 2: C --> A\n",
      "원판 1: B --> A\n",
      "원판 4: B --> C\n",
      "원판 1: A --> C\n",
      "원판 2: A --> B\n",
      "원판 1: C --> B\n",
      "원판 3: A --> C\n",
      "원판 1: B --> A\n",
      "원판 2: B --> C\n",
      "원판 1: A --> C\n"
     ]
    }
   ],
   "source": [
    "def hanoi_tower(n, fr, tmp, to) :     \n",
    "    if (n == 1) :              \n",
    "        print(\"원판 1: %s --> %s\" % (fr, to))\n",
    "    else :\n",
    "        hanoi_tower(n - 1, fr, to, tmp)    \n",
    "        print(\"원판 %d: %s --> %s\" % (n,fr,to))\n",
    "        hanoi_tower(n - 1, tmp, fr, to)    \n",
    "\n",
    "hanoi_tower(5, 'A', 'B', 'C')   "
   ]
  },
  {
   "cell_type": "code",
   "execution_count": 1,
   "id": "bf29ed33",
   "metadata": {},
   "outputs": [
    {
     "name": "stdout",
     "output_type": "stream",
     "text": [
      "1 2\n",
      "3 4\n"
     ]
    }
   ],
   "source": [
    "n = 3 # 1, 2, 3,...\n",
    "sum = 0\n",
    "k = 1\n",
    "while k <= n:\n",
    "    sum = sum + k\n",
    "    k = k * 2\n",
    "    print(sum, k)"
   ]
  },
  {
   "cell_type": "code",
   "execution_count": 2,
   "id": "b3a98e98",
   "metadata": {},
   "outputs": [
    {
     "name": "stdout",
     "output_type": "stream",
     "text": [
      "0 5\n",
      "0 5\n",
      "1 5\n",
      "1 5\n",
      "2 5\n",
      "4 5\n",
      "4 5\n",
      "5 5\n",
      "7 5\n",
      "10 5\n"
     ]
    }
   ],
   "source": [
    "s= 0\n",
    "N = 5  # 1, 2, 3,...\n",
    "for i in range(N):\n",
    "    for j in range(i):\n",
    "        s += j\n",
    "        print(s, N)\n",
    "\n",
    "# 1 + 2 + ... + (N‐1) = N(N‐1)/2 = O(N^2 )"
   ]
  },
  {
   "cell_type": "code",
   "execution_count": null,
   "id": "497b3b64",
   "metadata": {},
   "outputs": [],
   "source": []
  }
 ],
 "metadata": {
  "kernelspec": {
   "display_name": "Python 3",
   "language": "python",
   "name": "python3"
  },
  "language_info": {
   "codemirror_mode": {
    "name": "ipython",
    "version": 3
   },
   "file_extension": ".py",
   "mimetype": "text/x-python",
   "name": "python",
   "nbconvert_exporter": "python",
   "pygments_lexer": "ipython3",
   "version": "3.8.8"
  }
 },
 "nbformat": 4,
 "nbformat_minor": 5
}

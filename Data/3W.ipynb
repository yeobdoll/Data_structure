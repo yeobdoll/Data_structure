{
 "cells": [
  {
   "cell_type": "code",
   "execution_count": 1,
   "id": "0e9c4914",
   "metadata": {},
   "outputs": [
    {
     "data": {
      "text/plain": [
       "True"
      ]
     },
     "execution_count": 1,
     "metadata": {},
     "output_type": "execute_result"
    }
   ],
   "source": [
    "'a' in 'banana'"
   ]
  },
  {
   "cell_type": "code",
   "execution_count": 2,
   "id": "27abf4c0",
   "metadata": {},
   "outputs": [
    {
     "data": {
      "text/plain": [
       "False"
      ]
     },
     "execution_count": 2,
     "metadata": {},
     "output_type": "execute_result"
    }
   ],
   "source": [
    "'seed' in 'banana'"
   ]
  },
  {
   "cell_type": "code",
   "execution_count": 3,
   "id": "a0c1f4c8",
   "metadata": {},
   "outputs": [
    {
     "data": {
      "text/plain": [
       "True"
      ]
     },
     "execution_count": 3,
     "metadata": {},
     "output_type": "execute_result"
    }
   ],
   "source": [
    "A = [0,1,1,2,3,5,8,13]\n",
    "3 in A"
   ]
  },
  {
   "cell_type": "code",
   "execution_count": 4,
   "id": "a8b97f7a",
   "metadata": {},
   "outputs": [
    {
     "name": "stdout",
     "output_type": "stream",
     "text": [
      "game over\n"
     ]
    }
   ],
   "source": [
    "print(\"game over\")"
   ]
  },
  {
   "cell_type": "code",
   "execution_count": 5,
   "id": "6bbbf167",
   "metadata": {},
   "outputs": [
    {
     "name": "stdout",
     "output_type": "stream",
     "text": [
      "game over\n"
     ]
    }
   ],
   "source": [
    "print(\"game \", end=\"\")\n",
    "print(\"over\")"
   ]
  },
  {
   "cell_type": "markdown",
   "id": "b4e053a6",
   "metadata": {},
   "source": [
    "# 제어구조(분기, 반복)"
   ]
  },
  {
   "cell_type": "code",
   "execution_count": 6,
   "id": "82ec109c",
   "metadata": {},
   "outputs": [
    {
     "name": "stdout",
     "output_type": "stream",
     "text": [
      "33\n",
      "99\n",
      "12\n",
      "52\n",
      "26\n"
     ]
    },
    {
     "data": {
      "text/plain": [
       "set"
      ]
     },
     "execution_count": 6,
     "metadata": {},
     "output_type": "execute_result"
    }
   ],
   "source": [
    "myset = set([12,33,52,26,99])\n",
    "for i in myset:\n",
    "    print(i)\n",
    "type(myset)"
   ]
  },
  {
   "cell_type": "code",
   "execution_count": 7,
   "id": "549a4680",
   "metadata": {},
   "outputs": [
    {
     "name": "stdout",
     "output_type": "stream",
     "text": [
      "key= A\n",
      "value= 12\n",
      "key= B\n",
      "value= 33\n",
      "key= C\n",
      "value= 52\n",
      "key= D\n",
      "value= 26\n",
      "key= E\n",
      "value= 99\n"
     ]
    }
   ],
   "source": [
    "mydict = {\"A\":12,\"B\":33,\"C\":52,\"D\":26,\"E\":99}\n",
    "for e in mydict:\n",
    "    print(\"key=\",e)\n",
    "    print(\"value=\",mydict[e])"
   ]
  },
  {
   "cell_type": "code",
   "execution_count": 8,
   "id": "b84c82d2",
   "metadata": {},
   "outputs": [
    {
     "name": "stdout",
     "output_type": "stream",
     "text": [
      "당신의 학점은  4.5입니다.\n",
      "취미:테니스, 나이:21, 학점:4.500000\n",
      "당신의 학점은    4.50000입니다.\n",
      "취미:테니스, 나이:   21, 학점:4\n"
     ]
    }
   ],
   "source": [
    "hobby = \"테니스\"\n",
    "age = 21\n",
    "score = 4.5\n",
    "msg1 = \"당신의 학점은 %4.1f입니다.\" % score\n",
    "msg2 = \"취미:%s, 나이:%d, 학점:%f\" % (hobby, age,score)\n",
    "print(msg1)\n",
    "print(msg2)\n",
    "print(\"당신의 학점은 %10.5f입니다.\" % score)\n",
    "print(\"취미:%s, 나이:%5d, 학점:%.f\" % (hobby, age,score))"
   ]
  },
  {
   "cell_type": "code",
   "execution_count": 9,
   "id": "48d3cc96",
   "metadata": {},
   "outputs": [
    {
     "name": "stdout",
     "output_type": "stream",
     "text": [
      "[]\n",
      "['알라딘']\n",
      "['알라딘', '엘사']\n",
      "['알라딘', '엘사', '안나']\n",
      "['알라딘', '해적', '안나']\n"
     ]
    }
   ],
   "source": [
    "big3=[]\n",
    "print(big3)\n",
    "big3.append(\"알라딘\")  #추가 append 메소드 호출(객체 big3에게 append란 메시지 보내는것)\n",
    "print(big3)\n",
    "big3.append(\"엘사\")  #추가\n",
    "print(big3)\n",
    "big3.append(\"안나\")  #추가\n",
    "print(big3)\n",
    "big3[1] = \"해적\"  #변경\n",
    "print(big3)"
   ]
  },
  {
   "cell_type": "markdown",
   "id": "5744d2a7",
   "metadata": {},
   "source": [
    "# 튜플: 리스트(list)와 동일하지만 크기나 값을 변경할 수 없음  \n",
    "## 크기가 고정되기 때문에 메모리 측면에서 리스트에 비해 효율적"
   ]
  },
  {
   "cell_type": "markdown",
   "id": "47dcde90",
   "metadata": {},
   "source": [
    "# 딕셔너리"
   ]
  },
  {
   "cell_type": "code",
   "execution_count": 10,
   "id": "7c3e5613",
   "metadata": {},
   "outputs": [
    {
     "name": "stdout",
     "output_type": "stream",
     "text": [
      "{'김연아': '피겨', '류현진': '야구', '쿠드롱': '당구', '메시': '축구'}\n",
      "당구\n"
     ]
    }
   ],
   "source": [
    "map = {\"김연아\":\"피겨\",\"류현진\":\"야구\",\"쿠드롱\":\"당구\",\"메시\":\"축구\"}\n",
    "print(map)\n",
    "print(map[\"쿠드롱\"])"
   ]
  },
  {
   "cell_type": "code",
   "execution_count": 11,
   "id": "5e2f6fdb",
   "metadata": {},
   "outputs": [
    {
     "name": "stdout",
     "output_type": "stream",
     "text": [
      "{'김연아': '피겨', '류현진': '야구', '쿠드롱': '당구', '메시': '축구', '나달': '테니스'}\n",
      "{'김연아': '피겨', '류현진': '야구', '쿠드롱': '당구', '메시': '축구', '나달': '테니스', '고진영': '골프', '최민영': '야구'}\n"
     ]
    }
   ],
   "source": [
    "map[\"나달\"] = \"테니스\"  #리스트와 달리 항목 추가\n",
    "print(map)\n",
    "map.update({\"고진영\":\"골프\",\"최민영\":\"야구\"} ) #여러항목추가\n",
    "print(map)"
   ]
  },
  {
   "cell_type": "code",
   "execution_count": 12,
   "id": "6a288541",
   "metadata": {},
   "outputs": [
    {
     "data": {
      "text/plain": [
       "True"
      ]
     },
     "execution_count": 12,
     "metadata": {},
     "output_type": "execute_result"
    }
   ],
   "source": [
    "\"쿠드롱\" in map"
   ]
  },
  {
   "cell_type": "markdown",
   "id": "a5d6dc19",
   "metadata": {},
   "source": [
    "# 집합: 리스트와 비슷한 개념이지만 원소의 중복x, 순서x, 선형x"
   ]
  },
  {
   "cell_type": "code",
   "execution_count": 13,
   "id": "cf13c25d",
   "metadata": {},
   "outputs": [
    {
     "name": "stdout",
     "output_type": "stream",
     "text": [
      "{1, 2, 3, 4, 5}\n",
      "{1, 2, 3, 4, 5, 6}\n",
      "{2, 3, 4, 5, 6}\n",
      "{2, 3, 4, 5, 6, 7, 8, 9}\n",
      "{8, 2, 4, 6}\n",
      "{6, 8}\n",
      "{1, 3, 8}\n"
     ]
    }
   ],
   "source": [
    "os = {1, 2, 3, 4, 5} \n",
    "print(os)\n",
    "os.add(6) \n",
    "print(os)\n",
    "os.discard(1) \n",
    "print(os)\n",
    "os.update({7, 8, 9}) \n",
    "print(os)\n",
    "os &= {2, 4, 6, 8} #교집합\n",
    "print(os)\n",
    "os -= {2, 4} \n",
    "print(os)\n",
    "os ^= {1, 3, 6}  # 대칭 차집합\n",
    "print(os)"
   ]
  },
  {
   "cell_type": "code",
   "execution_count": 14,
   "id": "e73db8b8",
   "metadata": {},
   "outputs": [
    {
     "name": "stdout",
     "output_type": "stream",
     "text": [
      "frozenset({0, 1, 2, 3, 4, 5, 6, 7, 8, 9})\n"
     ]
    },
    {
     "ename": "AttributeError",
     "evalue": "'frozenset' object has no attribute 'update'",
     "output_type": "error",
     "traceback": [
      "\u001b[1;31m---------------------------------------------------------------------------\u001b[0m",
      "\u001b[1;31mAttributeError\u001b[0m                            Traceback (most recent call last)",
      "\u001b[1;32m<ipython-input-14-2ebad40872e5>\u001b[0m in \u001b[0;36m<module>\u001b[1;34m\u001b[0m\n\u001b[0;32m      1\u001b[0m \u001b[0ma\u001b[0m \u001b[1;33m=\u001b[0m \u001b[0mfrozenset\u001b[0m\u001b[1;33m(\u001b[0m\u001b[0mrange\u001b[0m\u001b[1;33m(\u001b[0m\u001b[1;36m10\u001b[0m\u001b[1;33m)\u001b[0m\u001b[1;33m)\u001b[0m \u001b[1;31m#파이썬은 말 그대로 얼어 있는 세트인 프로즌세트(frozenset), 즉 내용을 변경할 수 없는 세트도 제공\u001b[0m\u001b[1;33m\u001b[0m\u001b[1;33m\u001b[0m\u001b[0m\n\u001b[0;32m      2\u001b[0m \u001b[0mprint\u001b[0m\u001b[1;33m(\u001b[0m\u001b[0ma\u001b[0m\u001b[1;33m)\u001b[0m\u001b[1;33m\u001b[0m\u001b[1;33m\u001b[0m\u001b[0m\n\u001b[1;32m----> 3\u001b[1;33m \u001b[0ma\u001b[0m\u001b[1;33m.\u001b[0m\u001b[0mupdate\u001b[0m\u001b[1;33m(\u001b[0m\u001b[1;33m{\u001b[0m\u001b[1;36m100\u001b[0m\u001b[1;33m}\u001b[0m\u001b[1;33m)\u001b[0m\u001b[1;33m\u001b[0m\u001b[1;33m\u001b[0m\u001b[0m\n\u001b[0m\u001b[0;32m      4\u001b[0m \u001b[0mprint\u001b[0m\u001b[1;33m(\u001b[0m\u001b[0ma\u001b[0m\u001b[1;33m)\u001b[0m\u001b[1;33m\u001b[0m\u001b[1;33m\u001b[0m\u001b[0m\n",
      "\u001b[1;31mAttributeError\u001b[0m: 'frozenset' object has no attribute 'update'"
     ]
    }
   ],
   "source": [
    "a = frozenset(range(10)) #파이썬은 말 그대로 얼어 있는 세트인 프로즌세트(frozenset), 즉 내용을 변경할 수 없는 세트도 제공\n",
    "print(a)\n",
    "a.update({100})\n",
    "print(a)"
   ]
  },
  {
   "cell_type": "code",
   "execution_count": null,
   "id": "0a8430e8",
   "metadata": {},
   "outputs": [],
   "source": [
    "myset1={}\n",
    "type(myset1)"
   ]
  },
  {
   "cell_type": "code",
   "execution_count": null,
   "id": "7d137746",
   "metadata": {},
   "outputs": [],
   "source": [
    "myset = set()\n",
    "type(myset)"
   ]
  },
  {
   "cell_type": "markdown",
   "id": "51d724d9",
   "metadata": {},
   "source": [
    "# 사용자 정의 함수"
   ]
  },
  {
   "cell_type": "code",
   "execution_count": null,
   "id": "5b1b0bf9",
   "metadata": {},
   "outputs": [],
   "source": [
    "def find_min_max(A) :     \n",
    "    min = A[0]\n",
    "    max = A[0]\n",
    "    for i in range(1, len(A)) :\n",
    "        if max < A[i] : max = A[i]\n",
    "        if min > A[i] : min = A[i]\n",
    "    return min, max      #(min, max) 튜플로 반환\n",
    "data = [ 5, 3, 8, 4, 9, 1, 6, 2, 7 ]\n",
    "(x, y)= find_min_max(data)  #(x,y)\n",
    "print(\"(min,max) = \", (x,y))"
   ]
  },
  {
   "cell_type": "code",
   "execution_count": null,
   "id": "74da2c72",
   "metadata": {},
   "outputs": [],
   "source": [
    "def sum_range(begin, end, step=1) : #step이 기본값 가짐   디폴트 인수\n",
    "    sum = 0\n",
    "    for n in range(begin, end, step) :\n",
    "        sum += n\n",
    "    return sum\n",
    "print(\"sum = \", sum_range(1, 11))\n",
    "print(\"sum = \", sum_range(1, 10, 2))\n",
    "print(\"sum = \", sum_range(step=3, begin=1, end=10)) #키워드 인수"
   ]
  },
  {
   "cell_type": "markdown",
   "id": "a991ec5d",
   "metadata": {},
   "source": [
    "# 변수 범위"
   ]
  },
  {
   "cell_type": "code",
   "execution_count": null,
   "id": "11d5a8b2",
   "metadata": {},
   "outputs": [],
   "source": [
    "def calc_perimeter(radius) :\n",
    "    # global perimeter\n",
    "    print(\"파이 값: \", pi1) # 전역변수pi 사용\n",
    "    perimeter = 2*pi1 * radius #새로운 변수이기때문에(대입연산자=)\n",
    "pi1 = 3.14159\n",
    "perimeter = 0  # 전역변수 \n",
    "calc_perimeter(10)\n",
    "print(\"원둘레(r=10) = \", perimeter)"
   ]
  },
  {
   "cell_type": "code",
   "execution_count": null,
   "id": "d0dd4bd2",
   "metadata": {},
   "outputs": [],
   "source": [
    "def calc_perimeter(radius) :\n",
    "    global perimeter #전역변수 perimeter 사용\n",
    "    print(\"파이 값: \", pi) # 전역변수pi 사용\n",
    "    perimeter = 2*pi * radius \n",
    "pi = 3.14159\n",
    "perimeter = 0  # 전역변수 \n",
    "calc_perimeter(10)\n",
    "print(\"원둘레(r=10) = \", perimeter)"
   ]
  },
  {
   "cell_type": "markdown",
   "id": "6f9549ed",
   "metadata": {},
   "source": [
    "# 모듈과 이름 공간\n",
    "### min_max, sum 모듈 생성"
   ]
  },
  {
   "cell_type": "code",
   "execution_count": 17,
   "id": "3598de84",
   "metadata": {},
   "outputs": [],
   "source": [
    "from M.min_max import find_min_max as fm\n",
    "from M.sum import sum_range as sr"
   ]
  },
  {
   "cell_type": "code",
   "execution_count": 22,
   "id": "44426f1c",
   "metadata": {},
   "outputs": [
    {
     "name": "stdout",
     "output_type": "stream",
     "text": [
      "(min, max)= (1, 9)\n",
      "sum = 5050\n"
     ]
    }
   ],
   "source": [
    "import M.min_max\n",
    "import M.sum\n",
    "data = [ 5, 3, 8, 4, 9, 1, 6, 2, 7 ]\n",
    "print(\"(min, max)=\",find_min_max(data))\n",
    "print(\"sum =\",sum_range(1, 101))"
   ]
  },
  {
   "cell_type": "code",
   "execution_count": 23,
   "id": "c185038d",
   "metadata": {},
   "outputs": [
    {
     "name": "stdout",
     "output_type": "stream",
     "text": [
      "(min, max)= (1, 9)\n",
      "sum = 5050\n"
     ]
    }
   ],
   "source": [
    "from M.min_max import*\n",
    "from M.sum import *\n",
    "data = [ 5, 3, 8, 4, 9, 1, 6, 2, 7 ]\n",
    "print(\"(min, max)=\",find_min_max(data))\n",
    "print(\"sum =\",sum_range(1, 101))"
   ]
  },
  {
   "cell_type": "markdown",
   "id": "72b2eb63",
   "metadata": {},
   "source": [
    "## 클래스\n",
    "## 객체지향프로그래밍  \n",
    "객체(인스턴스화) : 클래스로부터 생성되어 클래스의 속성과 메소드를 가짐  \n",
    "리스트 변수 a,b가 있으면 a,b는 객체, 그리고 a와 b는 list 클래스의 인스턴스\n",
    "클래스 : 객체에서 사용되는 속성과 메소드를 정의한 틀    \n",
    "속성 : 클래스와 객체에서 사용되는 변수  \n",
    "메소드 : 클래스와 객체에서 사용되는 함수\n",
    "## 클래스명의 첫글자는 대문자"
   ]
  },
  {
   "cell_type": "code",
   "execution_count": 29,
   "id": "59c2f1b7",
   "metadata": {},
   "outputs": [
    {
     "name": "stdout",
     "output_type": "stream",
     "text": [
      "a\n"
     ]
    }
   ],
   "source": [
    "class A:\n",
    "    def say_a(self):\n",
    "        print(\"a\")\n",
    "st = A()# 객체 생성(인스턴스화)\n",
    "st.say_a() # st 객체 뒤에 .을 붙이고 메소드 호출"
   ]
  },
  {
   "cell_type": "markdown",
   "id": "ad954c21",
   "metadata": {},
   "source": [
    "# self란 클래스의 인스턴스(객체)를 나타내는 변수\n",
    "- 클래스의 인스턴스 자기자신"
   ]
  },
  {
   "cell_type": "code",
   "execution_count": 34,
   "id": "583930fc",
   "metadata": {
    "scrolled": true
   },
   "outputs": [
    {
     "name": "stdout",
     "output_type": "stream",
     "text": [
      "Hello\n",
      "Hello\n"
     ]
    }
   ],
   "source": [
    "class Person:\n",
    "    def greeting(self):\n",
    "        print(\"Hello\")\n",
    "    def hello(self):\n",
    "        self.greeting()\n",
    "        \n",
    "kim = Person()\n",
    "kim.greeting()\n",
    "kim.hello()"
   ]
  },
  {
   "cell_type": "code",
   "execution_count": 37,
   "id": "8f7676ff",
   "metadata": {},
   "outputs": [
    {
     "name": "stdout",
     "output_type": "stream",
     "text": [
      "10 + 20 = 30\n",
      "100 + 200 = 300\n"
     ]
    }
   ],
   "source": [
    "class Calculator:\n",
    "    def set(self, x, y):\n",
    "        self.first = x\n",
    "        self.second = y\n",
    "    def add(self):\n",
    "        result = self.first + self.second\n",
    "        return result\n",
    "\n",
    "cal1 = Calculator()\n",
    "cal1.set(10, 20)\n",
    "print('%d + %d = %d' % (cal1.first, cal1.second, cal1.add()))\n",
    "\n",
    "cal1.set(100, 200)\n",
    "print('%d + %d = %d' % (cal1.first, cal1.second, cal1.add()))"
   ]
  },
  {
   "cell_type": "markdown",
   "id": "b659faee",
   "metadata": {},
   "source": [
    "## __init__이라는 이름 그대로 인스턴스(객체)를 초기화합니다.\n",
    "## 클래스 안에서 속성에 접근할 때는 self.속성 형식이었습니다.\n",
    "## 클래스 바깥에서 속성에 접근할 때는 객체(인스턴스), 속성 형식으로 접근"
   ]
  },
  {
   "cell_type": "code",
   "execution_count": 49,
   "id": "938ef07e",
   "metadata": {},
   "outputs": [
    {
     "name": "stdout",
     "output_type": "stream",
     "text": [
      "안녕하세요 저는 마리아 입니다.\n",
      "이름: 마리아\n",
      "나이: 21\n",
      "주소: 서울시\n",
      "\n",
      "이름: 마리아 \n",
      "나이: 21 \n",
      "주소: 서울시\n"
     ]
    }
   ],
   "source": [
    "class Person:\n",
    "    def __init__(self, name, age, address):\n",
    "        self.hello = \"안녕하세요\"  #인스턴스 속성\n",
    "        self.name = name  #인스턴스 속성\n",
    "        self.age = age  #인스턴스 속성\n",
    "        self.address = address  #인스턴스 속성\n",
    "    def greeting(self):\n",
    "        print(\"{0} 저는 {1} 입니다.\" .format(self.hello, self.name))  # 클래스 안에서 속성에 접근은 self.속성\n",
    "    def showm(self):\n",
    "        print(\"이름: %s\" % self.name)\n",
    "        print(\"나이: %d\" % self.age)\n",
    "        print(\"주소: %s\" % self.address)\n",
    "        \n",
    "maria = Person(\"마리아\", 21, \"서울시\")\n",
    "maria.greeting()\n",
    "maria.showm()\n",
    "\n",
    "print()\n",
    "print(\"이름:\", maria.name, \"\\n나이:\", maria.age, \"\\n주소:\", maria.address)"
   ]
  },
  {
   "cell_type": "code",
   "execution_count": 56,
   "id": "bb112899",
   "metadata": {},
   "outputs": [
    {
     "name": "stdout",
     "output_type": "stream",
     "text": [
      "car1: black 0\n",
      "car2: red 120\n",
      "car3: yellow 30\n",
      "car4: blue 0\n",
      "\n",
      "car2: red 110\n",
      "car4: blue 10\n",
      "\n",
      "car2 == car6 False\n",
      "car3 == car6 True\n"
     ]
    }
   ],
   "source": [
    "class Car:\n",
    "    def __init__(self, color, speed=0): # 생성자\n",
    "        self.color = color\n",
    "        self.speed = speed\n",
    "    def speedUp(self):\n",
    "        self.speed += 10\n",
    "    def speedDown(self):\n",
    "        self.speed -= 10\n",
    "    def isEqual(self, carB):\n",
    "        if self.color == carB.color:\n",
    "            return True\n",
    "        else:\n",
    "            return False\n",
    "        \n",
    "car1 = Car(\"black\",0)\n",
    "print(\"car1:\" ,car1.color, car1.speed)\n",
    "car2 = Car(\"red\",120)\n",
    "print(\"car2:\" ,car2.color, car2.speed)\n",
    "car3 = Car(\"yellow\",30)\n",
    "print(\"car3:\" ,car3.color, car3.speed)\n",
    "car4 = Car(\"blue\",0)\n",
    "print(\"car4:\" ,car4.color, car4.speed)\n",
    "\n",
    "print()\n",
    "car2.speedDown()\n",
    "print(\"car2:\" ,car2.color, car2.speed)\n",
    "\n",
    "car4.speedUp()\n",
    "print(\"car4:\" ,car4.color, car4.speed)\n",
    "\n",
    "car6 = Car(\"yellow\")\n",
    "\n",
    "print()\n",
    "print(\"car2 == car6\", car2.isEqual(car6))\n",
    "print(\"car3 == car6\", car3.isEqual(car6))"
   ]
  },
  {
   "cell_type": "markdown",
   "id": "385c20f4",
   "metadata": {},
   "source": [
    "# 연산자 중복(operator overloading): 사용자가 정의한 클래스의 객체들에게 +, *, == 등과 같은 표준 연산자들을 적용"
   ]
  },
  {
   "cell_type": "code",
   "execution_count": 57,
   "id": "6e88a8c7",
   "metadata": {},
   "outputs": [
    {
     "name": "stdout",
     "output_type": "stream",
     "text": [
      "car1: black 0\n",
      "car2: red 120\n",
      "car3: yellow 30\n",
      "car4: blue 0\n",
      "\n",
      "car2: red 110\n",
      "car4: blue 10\n",
      "\n",
      "car2 == car6 False\n",
      "car3 == car6 True\n",
      "\n",
      "car2 == car6 False\n",
      "car3 == car6 True\n"
     ]
    }
   ],
   "source": [
    "class Car:\n",
    "    def __init__(self, color, speed=0): # 생성자\n",
    "        self.color = color\n",
    "        self.speed = speed\n",
    "    def speedUp(self):\n",
    "        self.speed += 10\n",
    "    def speedDown(self):\n",
    "        self.speed -= 10\n",
    "    def isEqual(self, carB):\n",
    "        if self.color == carB.color:\n",
    "            return True\n",
    "        else:\n",
    "            return False\n",
    "    def __eq__(self, carB):\n",
    "        return self.color == carB.color # 연산결과를 boolean\n",
    "        \n",
    "car1 = Car(\"black\",0)\n",
    "print(\"car1:\" ,car1.color, car1.speed)\n",
    "car2 = Car(\"red\",120)\n",
    "print(\"car2:\" ,car2.color, car2.speed)\n",
    "car3 = Car(\"yellow\",30)\n",
    "print(\"car3:\" ,car3.color, car3.speed)\n",
    "car4 = Car(\"blue\",0)\n",
    "print(\"car4:\" ,car4.color, car4.speed)\n",
    "\n",
    "print()\n",
    "car2.speedDown()\n",
    "print(\"car2:\" ,car2.color, car2.speed)\n",
    "\n",
    "car4.speedUp()\n",
    "print(\"car4:\" ,car4.color, car4.speed)\n",
    "\n",
    "car6 = Car(\"yellow\")\n",
    "\n",
    "print()\n",
    "print(\"car2 == car6\", car2.isEqual(car6))\n",
    "print(\"car3 == car6\", car3.isEqual(car6))\n",
    "\n",
    "print()\n",
    "print(\"car2 == car6\", car2==car6)\n",
    "print(\"car3 == car6\", car3==car6)"
   ]
  },
  {
   "cell_type": "markdown",
   "id": "ae44bff2",
   "metadata": {},
   "source": [
    "# 상속"
   ]
  },
  {
   "cell_type": "code",
   "execution_count": 60,
   "id": "9b967405",
   "metadata": {},
   "outputs": [
    {
     "name": "stdout",
     "output_type": "stream",
     "text": [
      "슈퍼카1: [Gold] [speed = 50] 터보모드\n",
      "슈퍼카2: [White] [speed = 10] 일반모드\n"
     ]
    }
   ],
   "source": [
    "class SuperCar(Car) :\n",
    "    def __init__(self, color, speed = 0, bTurbo = True) :\n",
    "        super().__init__(color, speed)  #부모 클래스의 생성자 호출\n",
    "        self.bTurbo = bTurbo    #터보모드를 위한 변수 생성 및 초기화\n",
    "        \n",
    "    def setTurbo(self, bTurbo = True) :  # 터보 모드를 on  off메소드\n",
    "        self.bTurbo = bTurbo\n",
    "        \n",
    "    def speedUp(self) :  # 부모 클래스 메소드 재 정의\n",
    "        if self.bTurbo : \n",
    "            self.speed += 50\n",
    "        else :   \n",
    "            super().speedUp()\n",
    "            \n",
    "    def __str__(self) :\n",
    "        if self.bTurbo :\n",
    "            return \"[%s] [speed = %d] 터보모드\" % (self.color, self.speed)\n",
    "        else :\n",
    "            return \"[%s] [speed = %d] 일반모드\" % (self.color, self.speed)\n",
    "        \n",
    "s1 = SuperCar(\"Gold\", 0, True)\n",
    "s2 = SuperCar(\"White\", 0, False)\n",
    "        \n",
    "s1.speedUp()\n",
    "s2.speedUp()\n",
    "print(\"슈퍼카1:\", s1)\n",
    "print(\"슈퍼카2:\", s2)"
   ]
  },
  {
   "cell_type": "code",
   "execution_count": null,
   "id": "2cb3d7cc",
   "metadata": {},
   "outputs": [],
   "source": []
  }
 ],
 "metadata": {
  "kernelspec": {
   "display_name": "Python 3",
   "language": "python",
   "name": "python3"
  },
  "language_info": {
   "codemirror_mode": {
    "name": "ipython",
    "version": 3
   },
   "file_extension": ".py",
   "mimetype": "text/x-python",
   "name": "python",
   "nbconvert_exporter": "python",
   "pygments_lexer": "ipython3",
   "version": "3.8.8"
  }
 },
 "nbformat": 4,
 "nbformat_minor": 5
}
